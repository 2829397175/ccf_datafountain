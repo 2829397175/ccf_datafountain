{
 "cells": [
  {
   "cell_type": "code",
   "execution_count": 1,
   "metadata": {},
   "outputs": [],
   "source": [
    "import pandas as pd\n",
    "import numpy as np"
   ]
  },
  {
   "cell_type": "code",
   "execution_count": 2,
   "metadata": {},
   "outputs": [],
   "source": [
    "train=pd.read_csv('train.csv')"
   ]
  },
  {
   "cell_type": "code",
   "execution_count": 3,
   "metadata": {},
   "outputs": [
    {
     "data": {
      "text/html": [
       "<div>\n",
       "<style scoped>\n",
       "    .dataframe tbody tr th:only-of-type {\n",
       "        vertical-align: middle;\n",
       "    }\n",
       "\n",
       "    .dataframe tbody tr th {\n",
       "        vertical-align: top;\n",
       "    }\n",
       "\n",
       "    .dataframe thead th {\n",
       "        text-align: right;\n",
       "    }\n",
       "</style>\n",
       "<table border=\"1\" class=\"dataframe\">\n",
       "  <thead>\n",
       "    <tr style=\"text-align: right;\">\n",
       "      <th></th>\n",
       "      <th>id</th>\n",
       "      <th>end_time</th>\n",
       "      <th>long_fibe_pre</th>\n",
       "      <th>fiber_length</th>\n",
       "      <th>fiber_fibrillation</th>\n",
       "      <th>fiber_teisting</th>\n",
       "      <th>fiber_fine</th>\n",
       "      <th>fiber_thickness</th>\n",
       "      <th>fiber_width</th>\n",
       "      <th>fiber_breaken</th>\n",
       "      <th>power</th>\n",
       "      <th>flow</th>\n",
       "      <th>concentration</th>\n",
       "      <th>check_weight</th>\n",
       "      <th>paper_thickness</th>\n",
       "      <th>formula</th>\n",
       "      <th>knife_service_time</th>\n",
       "      <th>paper_tension_vertically_average</th>\n",
       "    </tr>\n",
       "  </thead>\n",
       "  <tbody>\n",
       "    <tr>\n",
       "      <th>0</th>\n",
       "      <td>0</td>\n",
       "      <td>2019-04-01 00:26:00</td>\n",
       "      <td>0.092284</td>\n",
       "      <td>0.155232</td>\n",
       "      <td>0.811812</td>\n",
       "      <td>0.272328</td>\n",
       "      <td>0.259538</td>\n",
       "      <td>0.240404</td>\n",
       "      <td>0.161614</td>\n",
       "      <td>0.147387</td>\n",
       "      <td>0.461538</td>\n",
       "      <td>0.133333</td>\n",
       "      <td>0.333333</td>\n",
       "      <td>0.355967</td>\n",
       "      <td>0.237410</td>\n",
       "      <td>（0.5件芬宝)：（2件森博+2件绿桉+1件鹦鹉+1件明星）=7.69%：92.31%</td>\n",
       "      <td>0.007543</td>\n",
       "      <td>1067.0</td>\n",
       "    </tr>\n",
       "    <tr>\n",
       "      <th>1</th>\n",
       "      <td>1</td>\n",
       "      <td>2019-04-01 05:01:00</td>\n",
       "      <td>0.092284</td>\n",
       "      <td>0.155232</td>\n",
       "      <td>0.811812</td>\n",
       "      <td>0.272328</td>\n",
       "      <td>0.259538</td>\n",
       "      <td>0.240404</td>\n",
       "      <td>0.161614</td>\n",
       "      <td>0.147387</td>\n",
       "      <td>0.461538</td>\n",
       "      <td>0.133333</td>\n",
       "      <td>0.333333</td>\n",
       "      <td>0.336763</td>\n",
       "      <td>0.249509</td>\n",
       "      <td>（0.5件芬宝)：（2件绿桉+2件森博+1件明星+1件鹦鹉）=7.69%：92.31%</td>\n",
       "      <td>0.008146</td>\n",
       "      <td>980.0</td>\n",
       "    </tr>\n",
       "    <tr>\n",
       "      <th>2</th>\n",
       "      <td>2</td>\n",
       "      <td>2019-04-01 08:28:00</td>\n",
       "      <td>0.092284</td>\n",
       "      <td>0.160295</td>\n",
       "      <td>0.809520</td>\n",
       "      <td>0.263958</td>\n",
       "      <td>0.276940</td>\n",
       "      <td>0.134528</td>\n",
       "      <td>0.091816</td>\n",
       "      <td>0.143338</td>\n",
       "      <td>0.461538</td>\n",
       "      <td>0.124444</td>\n",
       "      <td>0.555556</td>\n",
       "      <td>0.343621</td>\n",
       "      <td>0.235775</td>\n",
       "      <td>（0.5件芬宝)：（2件绿桉+2件森博+1件鹦鹉+1件明星）=7.69%：92.31%</td>\n",
       "      <td>0.008599</td>\n",
       "      <td>1123.0</td>\n",
       "    </tr>\n",
       "    <tr>\n",
       "      <th>3</th>\n",
       "      <td>3</td>\n",
       "      <td>2019-04-01 12:58:00</td>\n",
       "      <td>0.092284</td>\n",
       "      <td>0.160295</td>\n",
       "      <td>0.809520</td>\n",
       "      <td>0.263958</td>\n",
       "      <td>0.276940</td>\n",
       "      <td>0.134528</td>\n",
       "      <td>0.091816</td>\n",
       "      <td>0.143338</td>\n",
       "      <td>0.461538</td>\n",
       "      <td>0.124444</td>\n",
       "      <td>0.555556</td>\n",
       "      <td>0.338134</td>\n",
       "      <td>0.227600</td>\n",
       "      <td>（0.5件芬宝)：（2件绿桉+2件森博+1件鹦鹉+1件明星）=7.69%：92.31%</td>\n",
       "      <td>0.009191</td>\n",
       "      <td>1178.0</td>\n",
       "    </tr>\n",
       "    <tr>\n",
       "      <th>4</th>\n",
       "      <td>4</td>\n",
       "      <td>2019-04-01 16:17:00</td>\n",
       "      <td>0.092284</td>\n",
       "      <td>0.156585</td>\n",
       "      <td>0.816047</td>\n",
       "      <td>0.270723</td>\n",
       "      <td>0.249024</td>\n",
       "      <td>0.246625</td>\n",
       "      <td>0.153406</td>\n",
       "      <td>0.149069</td>\n",
       "      <td>0.461538</td>\n",
       "      <td>0.128889</td>\n",
       "      <td>0.333333</td>\n",
       "      <td>0.344993</td>\n",
       "      <td>0.247547</td>\n",
       "      <td>（0.5件芬宝)：（2件绿桉+2件森博+1件鹦鹉+1件明星）=7.69%：92.31%</td>\n",
       "      <td>0.009627</td>\n",
       "      <td>1191.0</td>\n",
       "    </tr>\n",
       "  </tbody>\n",
       "</table>\n",
       "</div>"
      ],
      "text/plain": [
       "   id             end_time  long_fibe_pre  fiber_length  fiber_fibrillation  \\\n",
       "0   0  2019-04-01 00:26:00       0.092284      0.155232            0.811812   \n",
       "1   1  2019-04-01 05:01:00       0.092284      0.155232            0.811812   \n",
       "2   2  2019-04-01 08:28:00       0.092284      0.160295            0.809520   \n",
       "3   3  2019-04-01 12:58:00       0.092284      0.160295            0.809520   \n",
       "4   4  2019-04-01 16:17:00       0.092284      0.156585            0.816047   \n",
       "\n",
       "   fiber_teisting  fiber_fine  fiber_thickness  fiber_width  fiber_breaken  \\\n",
       "0        0.272328    0.259538         0.240404     0.161614       0.147387   \n",
       "1        0.272328    0.259538         0.240404     0.161614       0.147387   \n",
       "2        0.263958    0.276940         0.134528     0.091816       0.143338   \n",
       "3        0.263958    0.276940         0.134528     0.091816       0.143338   \n",
       "4        0.270723    0.249024         0.246625     0.153406       0.149069   \n",
       "\n",
       "      power      flow  concentration  check_weight  paper_thickness  \\\n",
       "0  0.461538  0.133333       0.333333      0.355967         0.237410   \n",
       "1  0.461538  0.133333       0.333333      0.336763         0.249509   \n",
       "2  0.461538  0.124444       0.555556      0.343621         0.235775   \n",
       "3  0.461538  0.124444       0.555556      0.338134         0.227600   \n",
       "4  0.461538  0.128889       0.333333      0.344993         0.247547   \n",
       "\n",
       "                                       formula  knife_service_time  \\\n",
       "0  （0.5件芬宝)：（2件森博+2件绿桉+1件鹦鹉+1件明星）=7.69%：92.31%            0.007543   \n",
       "1  （0.5件芬宝)：（2件绿桉+2件森博+1件明星+1件鹦鹉）=7.69%：92.31%            0.008146   \n",
       "2  （0.5件芬宝)：（2件绿桉+2件森博+1件鹦鹉+1件明星）=7.69%：92.31%            0.008599   \n",
       "3  （0.5件芬宝)：（2件绿桉+2件森博+1件鹦鹉+1件明星）=7.69%：92.31%            0.009191   \n",
       "4  （0.5件芬宝)：（2件绿桉+2件森博+1件鹦鹉+1件明星）=7.69%：92.31%            0.009627   \n",
       "\n",
       "   paper_tension_vertically_average  \n",
       "0                            1067.0  \n",
       "1                             980.0  \n",
       "2                            1123.0  \n",
       "3                            1178.0  \n",
       "4                            1191.0  "
      ]
     },
     "execution_count": 3,
     "metadata": {},
     "output_type": "execute_result"
    }
   ],
   "source": [
    "train.head()"
   ]
  },
  {
   "cell_type": "code",
   "execution_count": 4,
   "metadata": {},
   "outputs": [
    {
     "data": {
      "text/plain": [
       "(1001, 18)"
      ]
     },
     "execution_count": 4,
     "metadata": {},
     "output_type": "execute_result"
    }
   ],
   "source": [
    "train.shape"
   ]
  },
  {
   "cell_type": "code",
   "execution_count": null,
   "metadata": {},
   "outputs": [],
   "source": [
    "#时间"
   ]
  },
  {
   "cell_type": "code",
   "execution_count": 9,
   "metadata": {},
   "outputs": [],
   "source": [
    "train['end_time']=pd.to_datetime(train['end_time'])"
   ]
  },
  {
   "cell_type": "code",
   "execution_count": 18,
   "metadata": {},
   "outputs": [
    {
     "data": {
      "text/plain": [
       "(Timestamp('2019-04-01 00:26:00'), Timestamp('2019-10-04 13:59:00'))"
      ]
     },
     "execution_count": 18,
     "metadata": {},
     "output_type": "execute_result"
    }
   ],
   "source": [
    "train['end_time'].min(),train['end_time'].max()"
   ]
  },
  {
   "cell_type": "code",
   "execution_count": null,
   "metadata": {},
   "outputs": [],
   "source": []
  },
  {
   "cell_type": "code",
   "execution_count": null,
   "metadata": {},
   "outputs": [],
   "source": [
    "#配方"
   ]
  },
  {
   "cell_type": "code",
   "execution_count": 12,
   "metadata": {},
   "outputs": [
    {
     "data": {
      "text/plain": [
       "0       （0.5件芬宝)：（2件森博+2件绿桉+1件鹦鹉+1件明星）=7.69%：92.31%\n",
       "1       （0.5件芬宝)：（2件绿桉+2件森博+1件明星+1件鹦鹉）=7.69%：92.31%\n",
       "2       （0.5件芬宝)：（2件绿桉+2件森博+1件鹦鹉+1件明星）=7.69%：92.31%\n",
       "3       （0.5件芬宝)：（2件绿桉+2件森博+1件鹦鹉+1件明星）=7.69%：92.31%\n",
       "4       （0.5件芬宝)：（2件绿桉+2件森博+1件鹦鹉+1件明星）=7.69%：92.31%\n",
       "                           ...                     \n",
       "996      （1件UPM)：（2件金鱼+2件绿桉+1.5件VA） = 15.38%：84.62%\n",
       "997      （1件UPM)：（2件金鱼+2件绿桉+1.5件VA） = 15.38%：84.62%\n",
       "998     （1件UPM)：（2件金鱼+2件绿桉+1.5件OKI） = 15.38%：84.62%\n",
       "999      （1件UPM)：（2件金鱼+2件绿桉+1.5件VA） = 15.38%：84.62%\n",
       "1000     （1件UPM)：（2件金鱼+2件绿桉+1.5件VA） = 15.38%：84.62%\n",
       "Name: formula, Length: 1001, dtype: object"
      ]
     },
     "execution_count": 12,
     "metadata": {},
     "output_type": "execute_result"
    }
   ],
   "source": [
    "train['formula']"
   ]
  },
  {
   "cell_type": "code",
   "execution_count": null,
   "metadata": {},
   "outputs": [],
   "source": []
  },
  {
   "cell_type": "code",
   "execution_count": null,
   "metadata": {},
   "outputs": [],
   "source": [
    "#将机器运行数据与训练数据对应"
   ]
  },
  {
   "cell_type": "code",
   "execution_count": 6,
   "metadata": {},
   "outputs": [
    {
     "name": "stderr",
     "output_type": "stream",
     "text": [
      "d:\\anaconda3\\envs\\torch3.7\\lib\\site-packages\\numpy\\lib\\arraysetops.py:583: FutureWarning: elementwise comparison failed; returning scalar instead, but in the future will perform elementwise comparison\n",
      "  mask |= (ar1 == a)\n"
     ]
    }
   ],
   "source": [
    "machine=pd.read_csv('paper_machine_data.csv',index_col=0)"
   ]
  },
  {
   "cell_type": "code",
   "execution_count": 7,
   "metadata": {},
   "outputs": [
    {
     "data": {
      "text/html": [
       "<div>\n",
       "<style scoped>\n",
       "    .dataframe tbody tr th:only-of-type {\n",
       "        vertical-align: middle;\n",
       "    }\n",
       "\n",
       "    .dataframe tbody tr th {\n",
       "        vertical-align: top;\n",
       "    }\n",
       "\n",
       "    .dataframe thead th {\n",
       "        text-align: right;\n",
       "    }\n",
       "</style>\n",
       "<table border=\"1\" class=\"dataframe\">\n",
       "  <thead>\n",
       "    <tr style=\"text-align: right;\">\n",
       "      <th></th>\n",
       "      <th>time</th>\n",
       "      <th>CS</th>\n",
       "      <th>GDZD</th>\n",
       "      <th>HourOutput</th>\n",
       "      <th>HS</th>\n",
       "      <th>JS</th>\n",
       "      <th>JZGNJ</th>\n",
       "      <th>JZGSD</th>\n",
       "      <th>KZ_CJBDL</th>\n",
       "      <th>KZ_CJBPL</th>\n",
       "      <th>...</th>\n",
       "      <th>QXSDSD_1</th>\n",
       "      <th>QZL_1</th>\n",
       "      <th>SB_YKHGCS</th>\n",
       "      <th>SJDL</th>\n",
       "      <th>SSDZDH</th>\n",
       "      <th>SSDZQH</th>\n",
       "      <th>STRAMPRE</th>\n",
       "      <th>YKHG</th>\n",
       "      <th>YKHGSD</th>\n",
       "      <th>ZZCS</th>\n",
       "    </tr>\n",
       "  </thead>\n",
       "  <tbody>\n",
       "    <tr>\n",
       "      <th>0</th>\n",
       "      <td>2019-01-01 10:00:15+00:00</td>\n",
       "      <td>NaN</td>\n",
       "      <td>0.762951</td>\n",
       "      <td>2.499245</td>\n",
       "      <td>NaN</td>\n",
       "      <td>NaN</td>\n",
       "      <td>NaN</td>\n",
       "      <td>NaN</td>\n",
       "      <td>NaN</td>\n",
       "      <td>NaN</td>\n",
       "      <td>...</td>\n",
       "      <td>NaN</td>\n",
       "      <td>NaN</td>\n",
       "      <td>NaN</td>\n",
       "      <td>15.5</td>\n",
       "      <td>318.09586</td>\n",
       "      <td>2.030917</td>\n",
       "      <td>0.736</td>\n",
       "      <td>NaN</td>\n",
       "      <td>NaN</td>\n",
       "      <td>1020.0</td>\n",
       "    </tr>\n",
       "    <tr>\n",
       "      <th>1</th>\n",
       "      <td>2019-01-01 10:00:45+00:00</td>\n",
       "      <td>1019.9</td>\n",
       "      <td>0.762951</td>\n",
       "      <td>2.499245</td>\n",
       "      <td>10.0</td>\n",
       "      <td>790.4</td>\n",
       "      <td>17.0</td>\n",
       "      <td>790.4</td>\n",
       "      <td>326.3</td>\n",
       "      <td>53.8</td>\n",
       "      <td>...</td>\n",
       "      <td>0.0</td>\n",
       "      <td>1019.4</td>\n",
       "      <td>0.0</td>\n",
       "      <td>15.5</td>\n",
       "      <td>318.09586</td>\n",
       "      <td>2.030917</td>\n",
       "      <td>0.737</td>\n",
       "      <td>22.5</td>\n",
       "      <td>1019.9</td>\n",
       "      <td>1019.9</td>\n",
       "    </tr>\n",
       "    <tr>\n",
       "      <th>2</th>\n",
       "      <td>2019-01-01 10:01:15+00:00</td>\n",
       "      <td>1019.9</td>\n",
       "      <td>1.525902</td>\n",
       "      <td>2.499245</td>\n",
       "      <td>10.0</td>\n",
       "      <td>790.4</td>\n",
       "      <td>17.0</td>\n",
       "      <td>790.4</td>\n",
       "      <td>326.8</td>\n",
       "      <td>53.8</td>\n",
       "      <td>...</td>\n",
       "      <td>0.0</td>\n",
       "      <td>1019.4</td>\n",
       "      <td>0.0</td>\n",
       "      <td>15.5</td>\n",
       "      <td>319.65656</td>\n",
       "      <td>2.030093</td>\n",
       "      <td>0.737</td>\n",
       "      <td>22.5</td>\n",
       "      <td>1019.9</td>\n",
       "      <td>1019.9</td>\n",
       "    </tr>\n",
       "    <tr>\n",
       "      <th>3</th>\n",
       "      <td>2019-01-01 10:01:45+00:00</td>\n",
       "      <td>1019.9</td>\n",
       "      <td>1.068132</td>\n",
       "      <td>2.499245</td>\n",
       "      <td>10.0</td>\n",
       "      <td>790.4</td>\n",
       "      <td>17.0</td>\n",
       "      <td>790.4</td>\n",
       "      <td>325.5</td>\n",
       "      <td>53.8</td>\n",
       "      <td>...</td>\n",
       "      <td>0.0</td>\n",
       "      <td>1019.4</td>\n",
       "      <td>0.0</td>\n",
       "      <td>15.5</td>\n",
       "      <td>319.65656</td>\n",
       "      <td>2.030093</td>\n",
       "      <td>0.739</td>\n",
       "      <td>22.5</td>\n",
       "      <td>1019.9</td>\n",
       "      <td>1020.0</td>\n",
       "    </tr>\n",
       "    <tr>\n",
       "      <th>4</th>\n",
       "      <td>2019-01-01 10:02:15+00:00</td>\n",
       "      <td>1020.0</td>\n",
       "      <td>0.762951</td>\n",
       "      <td>2.499245</td>\n",
       "      <td>10.0</td>\n",
       "      <td>790.5</td>\n",
       "      <td>17.0</td>\n",
       "      <td>790.5</td>\n",
       "      <td>324.7</td>\n",
       "      <td>53.8</td>\n",
       "      <td>...</td>\n",
       "      <td>0.0</td>\n",
       "      <td>1019.4</td>\n",
       "      <td>0.0</td>\n",
       "      <td>15.5</td>\n",
       "      <td>319.65656</td>\n",
       "      <td>2.030093</td>\n",
       "      <td>0.739</td>\n",
       "      <td>22.5</td>\n",
       "      <td>1020.0</td>\n",
       "      <td>1020.0</td>\n",
       "    </tr>\n",
       "  </tbody>\n",
       "</table>\n",
       "<p>5 rows × 42 columns</p>\n",
       "</div>"
      ],
      "text/plain": [
       "                        time      CS      GDZD  HourOutput    HS     JS  \\\n",
       "0  2019-01-01 10:00:15+00:00     NaN  0.762951    2.499245   NaN    NaN   \n",
       "1  2019-01-01 10:00:45+00:00  1019.9  0.762951    2.499245  10.0  790.4   \n",
       "2  2019-01-01 10:01:15+00:00  1019.9  1.525902    2.499245  10.0  790.4   \n",
       "3  2019-01-01 10:01:45+00:00  1019.9  1.068132    2.499245  10.0  790.4   \n",
       "4  2019-01-01 10:02:15+00:00  1020.0  0.762951    2.499245  10.0  790.5   \n",
       "\n",
       "   JZGNJ  JZGSD  KZ_CJBDL  KZ_CJBPL  ...  QXSDSD_1   QZL_1  SB_YKHGCS  SJDL  \\\n",
       "0    NaN    NaN       NaN       NaN  ...       NaN     NaN        NaN  15.5   \n",
       "1   17.0  790.4     326.3      53.8  ...       0.0  1019.4        0.0  15.5   \n",
       "2   17.0  790.4     326.8      53.8  ...       0.0  1019.4        0.0  15.5   \n",
       "3   17.0  790.4     325.5      53.8  ...       0.0  1019.4        0.0  15.5   \n",
       "4   17.0  790.5     324.7      53.8  ...       0.0  1019.4        0.0  15.5   \n",
       "\n",
       "      SSDZDH    SSDZQH  STRAMPRE  YKHG  YKHGSD    ZZCS  \n",
       "0  318.09586  2.030917     0.736   NaN     NaN  1020.0  \n",
       "1  318.09586  2.030917     0.737  22.5  1019.9  1019.9  \n",
       "2  319.65656  2.030093     0.737  22.5  1019.9  1019.9  \n",
       "3  319.65656  2.030093     0.739  22.5  1019.9  1020.0  \n",
       "4  319.65656  2.030093     0.739  22.5  1020.0  1020.0  \n",
       "\n",
       "[5 rows x 42 columns]"
      ]
     },
     "execution_count": 7,
     "metadata": {},
     "output_type": "execute_result"
    }
   ],
   "source": [
    "machine.head()"
   ]
  },
  {
   "cell_type": "code",
   "execution_count": 8,
   "metadata": {},
   "outputs": [
    {
     "data": {
      "text/plain": [
       "(1825206, 42)"
      ]
     },
     "execution_count": 8,
     "metadata": {},
     "output_type": "execute_result"
    }
   ],
   "source": [
    "machine.shape"
   ]
  },
  {
   "cell_type": "code",
   "execution_count": 10,
   "metadata": {},
   "outputs": [],
   "source": [
    "machine['time']=pd.to_datetime(machine['time'])"
   ]
  },
  {
   "cell_type": "code",
   "execution_count": 17,
   "metadata": {},
   "outputs": [],
   "source": [
    "machine=machine.dropna(axis=0)"
   ]
  },
  {
   "cell_type": "code",
   "execution_count": 18,
   "metadata": {},
   "outputs": [],
   "source": [
    "from sklearn.preprocessing import MinMaxScaler\n",
    "scaler=MinMaxScaler()"
   ]
  },
  {
   "cell_type": "code",
   "execution_count": 20,
   "metadata": {},
   "outputs": [],
   "source": [
    "machine_columns=machine.columns[1:]\n",
    "machine_mm=scaler.fit_transform(machine[machine_columns])"
   ]
  },
  {
   "cell_type": "code",
   "execution_count": 22,
   "metadata": {},
   "outputs": [],
   "source": [
    "machine[machine_columns]=machine_mm"
   ]
  },
  {
   "cell_type": "code",
   "execution_count": 23,
   "metadata": {},
   "outputs": [
    {
     "data": {
      "text/html": [
       "<div>\n",
       "<style scoped>\n",
       "    .dataframe tbody tr th:only-of-type {\n",
       "        vertical-align: middle;\n",
       "    }\n",
       "\n",
       "    .dataframe tbody tr th {\n",
       "        vertical-align: top;\n",
       "    }\n",
       "\n",
       "    .dataframe thead th {\n",
       "        text-align: right;\n",
       "    }\n",
       "</style>\n",
       "<table border=\"1\" class=\"dataframe\">\n",
       "  <thead>\n",
       "    <tr style=\"text-align: right;\">\n",
       "      <th></th>\n",
       "      <th>time</th>\n",
       "      <th>CS</th>\n",
       "      <th>GDZD</th>\n",
       "      <th>HourOutput</th>\n",
       "      <th>HS</th>\n",
       "      <th>JS</th>\n",
       "      <th>JZGNJ</th>\n",
       "      <th>JZGSD</th>\n",
       "      <th>KZ_CJBDL</th>\n",
       "      <th>KZ_CJBPL</th>\n",
       "      <th>...</th>\n",
       "      <th>QXSDSD_1</th>\n",
       "      <th>QZL_1</th>\n",
       "      <th>SB_YKHGCS</th>\n",
       "      <th>SJDL</th>\n",
       "      <th>SSDZDH</th>\n",
       "      <th>SSDZQH</th>\n",
       "      <th>STRAMPRE</th>\n",
       "      <th>YKHG</th>\n",
       "      <th>YKHGSD</th>\n",
       "      <th>ZZCS</th>\n",
       "    </tr>\n",
       "  </thead>\n",
       "  <tbody>\n",
       "    <tr>\n",
       "      <th>1</th>\n",
       "      <td>2019-01-01 10:00:45+00:00</td>\n",
       "      <td>0.849917</td>\n",
       "      <td>0.000076</td>\n",
       "      <td>0.028435</td>\n",
       "      <td>0.125</td>\n",
       "      <td>0.658009</td>\n",
       "      <td>0.000259</td>\n",
       "      <td>0.658009</td>\n",
       "      <td>0.813310</td>\n",
       "      <td>0.896667</td>\n",
       "      <td>...</td>\n",
       "      <td>0.0</td>\n",
       "      <td>0.155555</td>\n",
       "      <td>0.0</td>\n",
       "      <td>0.300971</td>\n",
       "      <td>0.004062</td>\n",
       "      <td>0.001090</td>\n",
       "      <td>0.490353</td>\n",
       "      <td>0.006145</td>\n",
       "      <td>0.849917</td>\n",
       "      <td>0.849421</td>\n",
       "    </tr>\n",
       "    <tr>\n",
       "      <th>2</th>\n",
       "      <td>2019-01-01 10:01:15+00:00</td>\n",
       "      <td>0.849917</td>\n",
       "      <td>0.000153</td>\n",
       "      <td>0.028435</td>\n",
       "      <td>0.125</td>\n",
       "      <td>0.658009</td>\n",
       "      <td>0.000259</td>\n",
       "      <td>0.658009</td>\n",
       "      <td>0.814556</td>\n",
       "      <td>0.896667</td>\n",
       "      <td>...</td>\n",
       "      <td>0.0</td>\n",
       "      <td>0.155555</td>\n",
       "      <td>0.0</td>\n",
       "      <td>0.300971</td>\n",
       "      <td>0.004082</td>\n",
       "      <td>0.001089</td>\n",
       "      <td>0.490353</td>\n",
       "      <td>0.006145</td>\n",
       "      <td>0.849917</td>\n",
       "      <td>0.849421</td>\n",
       "    </tr>\n",
       "    <tr>\n",
       "      <th>3</th>\n",
       "      <td>2019-01-01 10:01:45+00:00</td>\n",
       "      <td>0.849917</td>\n",
       "      <td>0.000107</td>\n",
       "      <td>0.028435</td>\n",
       "      <td>0.125</td>\n",
       "      <td>0.658009</td>\n",
       "      <td>0.000259</td>\n",
       "      <td>0.658009</td>\n",
       "      <td>0.811316</td>\n",
       "      <td>0.896667</td>\n",
       "      <td>...</td>\n",
       "      <td>0.0</td>\n",
       "      <td>0.155555</td>\n",
       "      <td>0.0</td>\n",
       "      <td>0.300971</td>\n",
       "      <td>0.004082</td>\n",
       "      <td>0.001089</td>\n",
       "      <td>0.491683</td>\n",
       "      <td>0.006145</td>\n",
       "      <td>0.849917</td>\n",
       "      <td>0.849504</td>\n",
       "    </tr>\n",
       "    <tr>\n",
       "      <th>4</th>\n",
       "      <td>2019-01-01 10:02:15+00:00</td>\n",
       "      <td>0.850000</td>\n",
       "      <td>0.000076</td>\n",
       "      <td>0.028435</td>\n",
       "      <td>0.125</td>\n",
       "      <td>0.658092</td>\n",
       "      <td>0.000259</td>\n",
       "      <td>0.658092</td>\n",
       "      <td>0.809322</td>\n",
       "      <td>0.896667</td>\n",
       "      <td>...</td>\n",
       "      <td>0.0</td>\n",
       "      <td>0.155555</td>\n",
       "      <td>0.0</td>\n",
       "      <td>0.300971</td>\n",
       "      <td>0.004082</td>\n",
       "      <td>0.001089</td>\n",
       "      <td>0.491683</td>\n",
       "      <td>0.006145</td>\n",
       "      <td>0.850000</td>\n",
       "      <td>0.849504</td>\n",
       "    </tr>\n",
       "    <tr>\n",
       "      <th>5</th>\n",
       "      <td>2019-01-01 10:02:45+00:00</td>\n",
       "      <td>0.850000</td>\n",
       "      <td>0.000076</td>\n",
       "      <td>0.028435</td>\n",
       "      <td>0.125</td>\n",
       "      <td>0.658092</td>\n",
       "      <td>0.000259</td>\n",
       "      <td>0.658092</td>\n",
       "      <td>0.813310</td>\n",
       "      <td>0.896667</td>\n",
       "      <td>...</td>\n",
       "      <td>0.0</td>\n",
       "      <td>0.155555</td>\n",
       "      <td>0.0</td>\n",
       "      <td>0.300971</td>\n",
       "      <td>0.004066</td>\n",
       "      <td>0.001095</td>\n",
       "      <td>0.494345</td>\n",
       "      <td>0.006145</td>\n",
       "      <td>0.850000</td>\n",
       "      <td>0.849504</td>\n",
       "    </tr>\n",
       "  </tbody>\n",
       "</table>\n",
       "<p>5 rows × 42 columns</p>\n",
       "</div>"
      ],
      "text/plain": [
       "                       time        CS      GDZD  HourOutput     HS        JS  \\\n",
       "1 2019-01-01 10:00:45+00:00  0.849917  0.000076    0.028435  0.125  0.658009   \n",
       "2 2019-01-01 10:01:15+00:00  0.849917  0.000153    0.028435  0.125  0.658009   \n",
       "3 2019-01-01 10:01:45+00:00  0.849917  0.000107    0.028435  0.125  0.658009   \n",
       "4 2019-01-01 10:02:15+00:00  0.850000  0.000076    0.028435  0.125  0.658092   \n",
       "5 2019-01-01 10:02:45+00:00  0.850000  0.000076    0.028435  0.125  0.658092   \n",
       "\n",
       "      JZGNJ     JZGSD  KZ_CJBDL  KZ_CJBPL  ...  QXSDSD_1     QZL_1  SB_YKHGCS  \\\n",
       "1  0.000259  0.658009  0.813310  0.896667  ...       0.0  0.155555        0.0   \n",
       "2  0.000259  0.658009  0.814556  0.896667  ...       0.0  0.155555        0.0   \n",
       "3  0.000259  0.658009  0.811316  0.896667  ...       0.0  0.155555        0.0   \n",
       "4  0.000259  0.658092  0.809322  0.896667  ...       0.0  0.155555        0.0   \n",
       "5  0.000259  0.658092  0.813310  0.896667  ...       0.0  0.155555        0.0   \n",
       "\n",
       "       SJDL    SSDZDH    SSDZQH  STRAMPRE      YKHG    YKHGSD      ZZCS  \n",
       "1  0.300971  0.004062  0.001090  0.490353  0.006145  0.849917  0.849421  \n",
       "2  0.300971  0.004082  0.001089  0.490353  0.006145  0.849917  0.849421  \n",
       "3  0.300971  0.004082  0.001089  0.491683  0.006145  0.849917  0.849504  \n",
       "4  0.300971  0.004082  0.001089  0.491683  0.006145  0.850000  0.849504  \n",
       "5  0.300971  0.004066  0.001095  0.494345  0.006145  0.850000  0.849504  \n",
       "\n",
       "[5 rows x 42 columns]"
      ]
     },
     "execution_count": 23,
     "metadata": {},
     "output_type": "execute_result"
    }
   ],
   "source": [
    "machine.head()"
   ]
  },
  {
   "cell_type": "code",
   "execution_count": 24,
   "metadata": {},
   "outputs": [],
   "source": [
    "machine_columns=machine.columns[1:]\n",
    "time_deltas=[pd.Timedelta(days=1),pd.Timedelta(hours=12),pd.Timedelta(hours=5),pd.Timedelta(hours=1),pd.Timedelta(minutes=30),pd.Timedelta(minutes=10),pd.Timedelta(minutes=1)]"
   ]
  },
  {
   "cell_type": "code",
   "execution_count": 90,
   "metadata": {},
   "outputs": [],
   "source": [
    "from scipy.stats import kurtosis\n",
    "def get_train_data(data):\n",
    "    \n",
    "    ret=[]\n",
    "\n",
    "    machine_time_all=machine['time'].values\n",
    "    data_time_all=data['end_time'].values\n",
    "\n",
    "\n",
    "    data_len=len(data)\n",
    "    for i in range(data_len):\n",
    "        end_time=data_time_all[i]\n",
    "        ret_=[]\n",
    "        for delta_ in time_deltas:\n",
    "            start_time=end_time-delta_\n",
    "            tp_=machine[(machine_time_all>=start_time)&(machine_time_all<=end_time)]\n",
    "\n",
    "            for column in machine_columns:\n",
    "                mean_=tp_[column].mean()\n",
    "                std_=tp_[column].std()\n",
    "                if np.isnan(std_):\n",
    "                    std_=0\n",
    "                max_=tp_[column].max()\n",
    "                min_=tp_[column].min()\n",
    "                peak_=max_-min_\n",
    "                pulse_=max_*mean_ #脉冲因子，检测信号中是否存在冲击\n",
    "\n",
    "                mar_=np.square(np.mean(np.sqrt(tp_[column].values)))\n",
    "                if mar_>1e-5:\n",
    "                    margin_=(max_/mar_) #裕度因子，检测机械设备的磨损情况\n",
    "                else:\n",
    "                    margin_=0\n",
    "                kur_=kurtosis(tp_[column].values) #峭度因子\n",
    "                \n",
    "                ret_.append(mean_)\n",
    "                ret_.append(std_)\n",
    "                ret_.append(max_)\n",
    "                ret_.append(min_)\n",
    "                ret_.append(peak_)\n",
    "                ret_.append(pulse_)\n",
    "                ret_.append(margin_)\n",
    "                ret_.append(kur_)\n",
    "        ret.append(ret_)\n",
    "\n",
    "    return ret"
   ]
  },
  {
   "cell_type": "code",
   "execution_count": 91,
   "metadata": {},
   "outputs": [],
   "source": [
    "res=get_train_data(train)"
   ]
  },
  {
   "cell_type": "code",
   "execution_count": 92,
   "metadata": {},
   "outputs": [],
   "source": [
    "res=np.array(res)"
   ]
  },
  {
   "cell_type": "code",
   "execution_count": 93,
   "metadata": {},
   "outputs": [],
   "source": [
    "np.save('machine_stat.npy',res)"
   ]
  },
  {
   "cell_type": "code",
   "execution_count": 94,
   "metadata": {},
   "outputs": [],
   "source": [
    "column_=[]\n",
    "for delta_ in range(len(time_deltas)):\n",
    "        for column in machine_columns:\n",
    "            column_.append('t{}_{}_mean'.format(delta_,column))\n",
    "            column_.append('t{}_{}_std'.format(delta_,column))\n",
    "            column_.append('t{}_{}_max'.format(delta_,column))\n",
    "            column_.append('t{}_{}_min'.format(delta_,column))\n",
    "            column_.append('t{}_{}_peak'.format(delta_,column))\n",
    "            column_.append('t{}_{}_pulse'.format(delta_,column))\n",
    "            column_.append('t{}_{}_margin'.format(delta_,column))\n",
    "            column_.append('t{}_{}_kur'.format(delta_,column))\n",
    "\n",
    "df=pd.DataFrame(res,columns=column_)"
   ]
  },
  {
   "cell_type": "code",
   "execution_count": 95,
   "metadata": {},
   "outputs": [
    {
     "data": {
      "text/plain": [
       "Series([], dtype: bool)"
      ]
     },
     "execution_count": 95,
     "metadata": {},
     "output_type": "execute_result"
    }
   ],
   "source": [
    "df.isna().any(axis=0)[df.isna().any(axis=0).values]"
   ]
  },
  {
   "cell_type": "code",
   "execution_count": 96,
   "metadata": {},
   "outputs": [
    {
     "data": {
      "text/html": [
       "<div>\n",
       "<style scoped>\n",
       "    .dataframe tbody tr th:only-of-type {\n",
       "        vertical-align: middle;\n",
       "    }\n",
       "\n",
       "    .dataframe tbody tr th {\n",
       "        vertical-align: top;\n",
       "    }\n",
       "\n",
       "    .dataframe thead th {\n",
       "        text-align: right;\n",
       "    }\n",
       "</style>\n",
       "<table border=\"1\" class=\"dataframe\">\n",
       "  <thead>\n",
       "    <tr style=\"text-align: right;\">\n",
       "      <th></th>\n",
       "      <th>t0_CS_mean</th>\n",
       "      <th>t0_CS_std</th>\n",
       "      <th>t0_CS_max</th>\n",
       "      <th>t0_CS_min</th>\n",
       "      <th>t0_CS_peak</th>\n",
       "      <th>t0_CS_pulse</th>\n",
       "      <th>t0_CS_margin</th>\n",
       "      <th>t0_CS_kur</th>\n",
       "      <th>t0_GDZD_mean</th>\n",
       "      <th>t0_GDZD_std</th>\n",
       "      <th>...</th>\n",
       "      <th>t6_YKHGSD_margin</th>\n",
       "      <th>t6_YKHGSD_kur</th>\n",
       "      <th>t6_ZZCS_mean</th>\n",
       "      <th>t6_ZZCS_std</th>\n",
       "      <th>t6_ZZCS_max</th>\n",
       "      <th>t6_ZZCS_min</th>\n",
       "      <th>t6_ZZCS_peak</th>\n",
       "      <th>t6_ZZCS_pulse</th>\n",
       "      <th>t6_ZZCS_margin</th>\n",
       "      <th>t6_ZZCS_kur</th>\n",
       "    </tr>\n",
       "  </thead>\n",
       "  <tbody>\n",
       "    <tr>\n",
       "      <th>0</th>\n",
       "      <td>0.414113</td>\n",
       "      <td>0.388919</td>\n",
       "      <td>0.833417</td>\n",
       "      <td>0.040917</td>\n",
       "      <td>0.792500</td>\n",
       "      <td>0.345129</td>\n",
       "      <td>2.855853</td>\n",
       "      <td>-1.976560</td>\n",
       "      <td>0.000005</td>\n",
       "      <td>0.000045</td>\n",
       "      <td>...</td>\n",
       "      <td>1.000000</td>\n",
       "      <td>-3.0</td>\n",
       "      <td>0.832681</td>\n",
       "      <td>0.000000</td>\n",
       "      <td>0.832681</td>\n",
       "      <td>0.832681</td>\n",
       "      <td>0.000000</td>\n",
       "      <td>0.693358</td>\n",
       "      <td>1.000000</td>\n",
       "      <td>-3.0</td>\n",
       "    </tr>\n",
       "    <tr>\n",
       "      <th>1</th>\n",
       "      <td>0.568389</td>\n",
       "      <td>0.370324</td>\n",
       "      <td>0.850083</td>\n",
       "      <td>0.040917</td>\n",
       "      <td>0.809167</td>\n",
       "      <td>0.483178</td>\n",
       "      <td>1.853239</td>\n",
       "      <td>-1.485605</td>\n",
       "      <td>0.000008</td>\n",
       "      <td>0.000053</td>\n",
       "      <td>...</td>\n",
       "      <td>1.000000</td>\n",
       "      <td>-3.0</td>\n",
       "      <td>0.849338</td>\n",
       "      <td>0.000000</td>\n",
       "      <td>0.849338</td>\n",
       "      <td>0.849338</td>\n",
       "      <td>0.000000</td>\n",
       "      <td>0.721375</td>\n",
       "      <td>1.000000</td>\n",
       "      <td>-3.0</td>\n",
       "    </tr>\n",
       "    <tr>\n",
       "      <th>2</th>\n",
       "      <td>0.685360</td>\n",
       "      <td>0.308844</td>\n",
       "      <td>0.858417</td>\n",
       "      <td>0.040917</td>\n",
       "      <td>0.817500</td>\n",
       "      <td>0.588324</td>\n",
       "      <td>1.407677</td>\n",
       "      <td>0.523144</td>\n",
       "      <td>0.000010</td>\n",
       "      <td>0.000062</td>\n",
       "      <td>...</td>\n",
       "      <td>1.000049</td>\n",
       "      <td>-2.0</td>\n",
       "      <td>0.857625</td>\n",
       "      <td>0.000059</td>\n",
       "      <td>0.857666</td>\n",
       "      <td>0.857583</td>\n",
       "      <td>0.000083</td>\n",
       "      <td>0.735556</td>\n",
       "      <td>1.000049</td>\n",
       "      <td>-2.0</td>\n",
       "    </tr>\n",
       "    <tr>\n",
       "      <th>3</th>\n",
       "      <td>0.837447</td>\n",
       "      <td>0.034421</td>\n",
       "      <td>0.858417</td>\n",
       "      <td>0.416000</td>\n",
       "      <td>0.442417</td>\n",
       "      <td>0.718879</td>\n",
       "      <td>1.025553</td>\n",
       "      <td>62.671456</td>\n",
       "      <td>0.000012</td>\n",
       "      <td>0.000070</td>\n",
       "      <td>...</td>\n",
       "      <td>1.000000</td>\n",
       "      <td>-3.0</td>\n",
       "      <td>0.857875</td>\n",
       "      <td>0.000059</td>\n",
       "      <td>0.857916</td>\n",
       "      <td>0.857833</td>\n",
       "      <td>0.000083</td>\n",
       "      <td>0.735985</td>\n",
       "      <td>1.000049</td>\n",
       "      <td>-2.0</td>\n",
       "    </tr>\n",
       "    <tr>\n",
       "      <th>4</th>\n",
       "      <td>0.847655</td>\n",
       "      <td>0.010962</td>\n",
       "      <td>0.858417</td>\n",
       "      <td>0.833083</td>\n",
       "      <td>0.025333</td>\n",
       "      <td>0.727641</td>\n",
       "      <td>1.012738</td>\n",
       "      <td>-1.601213</td>\n",
       "      <td>0.000011</td>\n",
       "      <td>0.000065</td>\n",
       "      <td>...</td>\n",
       "      <td>1.000000</td>\n",
       "      <td>-3.0</td>\n",
       "      <td>0.857875</td>\n",
       "      <td>0.000059</td>\n",
       "      <td>0.857916</td>\n",
       "      <td>0.857833</td>\n",
       "      <td>0.000083</td>\n",
       "      <td>0.735985</td>\n",
       "      <td>1.000049</td>\n",
       "      <td>-2.0</td>\n",
       "    </tr>\n",
       "  </tbody>\n",
       "</table>\n",
       "<p>5 rows × 2296 columns</p>\n",
       "</div>"
      ],
      "text/plain": [
       "   t0_CS_mean  t0_CS_std  t0_CS_max  t0_CS_min  t0_CS_peak  t0_CS_pulse  \\\n",
       "0    0.414113   0.388919   0.833417   0.040917    0.792500     0.345129   \n",
       "1    0.568389   0.370324   0.850083   0.040917    0.809167     0.483178   \n",
       "2    0.685360   0.308844   0.858417   0.040917    0.817500     0.588324   \n",
       "3    0.837447   0.034421   0.858417   0.416000    0.442417     0.718879   \n",
       "4    0.847655   0.010962   0.858417   0.833083    0.025333     0.727641   \n",
       "\n",
       "   t0_CS_margin  t0_CS_kur  t0_GDZD_mean  t0_GDZD_std  ...  t6_YKHGSD_margin  \\\n",
       "0      2.855853  -1.976560      0.000005     0.000045  ...          1.000000   \n",
       "1      1.853239  -1.485605      0.000008     0.000053  ...          1.000000   \n",
       "2      1.407677   0.523144      0.000010     0.000062  ...          1.000049   \n",
       "3      1.025553  62.671456      0.000012     0.000070  ...          1.000000   \n",
       "4      1.012738  -1.601213      0.000011     0.000065  ...          1.000000   \n",
       "\n",
       "   t6_YKHGSD_kur  t6_ZZCS_mean  t6_ZZCS_std  t6_ZZCS_max  t6_ZZCS_min  \\\n",
       "0           -3.0      0.832681     0.000000     0.832681     0.832681   \n",
       "1           -3.0      0.849338     0.000000     0.849338     0.849338   \n",
       "2           -2.0      0.857625     0.000059     0.857666     0.857583   \n",
       "3           -3.0      0.857875     0.000059     0.857916     0.857833   \n",
       "4           -3.0      0.857875     0.000059     0.857916     0.857833   \n",
       "\n",
       "   t6_ZZCS_peak  t6_ZZCS_pulse  t6_ZZCS_margin  t6_ZZCS_kur  \n",
       "0      0.000000       0.693358        1.000000         -3.0  \n",
       "1      0.000000       0.721375        1.000000         -3.0  \n",
       "2      0.000083       0.735556        1.000049         -2.0  \n",
       "3      0.000083       0.735985        1.000049         -2.0  \n",
       "4      0.000083       0.735985        1.000049         -2.0  \n",
       "\n",
       "[5 rows x 2296 columns]"
      ]
     },
     "execution_count": 96,
     "metadata": {},
     "output_type": "execute_result"
    }
   ],
   "source": [
    "df.head()"
   ]
  },
  {
   "cell_type": "code",
   "execution_count": 97,
   "metadata": {},
   "outputs": [
    {
     "data": {
      "text/plain": [
       "(1001, 2314)"
      ]
     },
     "execution_count": 97,
     "metadata": {},
     "output_type": "execute_result"
    }
   ],
   "source": [
    "df=pd.concat([train,df],axis=1)\n",
    "df.shape"
   ]
  },
  {
   "cell_type": "code",
   "execution_count": 98,
   "metadata": {},
   "outputs": [],
   "source": [
    "df.to_csv('feature_all.csv',index=False)"
   ]
  },
  {
   "cell_type": "code",
   "execution_count": 104,
   "metadata": {},
   "outputs": [],
   "source": [
    "data=df.drop(['end_time','formula','paper_tension_vertically_average','id'],axis=1).values\n",
    "label=train['paper_tension_vertically_average'].values"
   ]
  },
  {
   "cell_type": "code",
   "execution_count": 105,
   "metadata": {},
   "outputs": [],
   "source": [
    "data=scaler.fit_transform(data)\n",
    "label=scaler.fit_transform(label.reshape(-1,1))"
   ]
  },
  {
   "cell_type": "code",
   "execution_count": 106,
   "metadata": {},
   "outputs": [
    {
     "name": "stderr",
     "output_type": "stream",
     "text": [
      "d:\\anaconda3\\envs\\torch3.7\\lib\\site-packages\\ipykernel_launcher.py:7: DataConversionWarning: A column-vector y was passed when a 1d array was expected. Please change the shape of y to (n_samples,), for example using ravel().\n",
      "  import sys\n"
     ]
    },
    {
     "data": {
      "text/plain": [
       "RandomForestRegressor()"
      ]
     },
     "execution_count": 106,
     "metadata": {},
     "output_type": "execute_result"
    }
   ],
   "source": [
    "from sklearn.ensemble import RandomForestRegressor\n",
    "from sklearn.model_selection import train_test_split\n",
    "\n",
    "X_train,X_test,y_train,y_test=train_test_split(data,label,test_size=0.2,random_state=27)\n",
    "\n",
    "regressor=RandomForestRegressor()\n",
    "regressor.fit(X_train,y_train)"
   ]
  },
  {
   "cell_type": "code",
   "execution_count": 107,
   "metadata": {},
   "outputs": [
    {
     "name": "stdout",
     "output_type": "stream",
     "text": [
      "0.0001664649029777332\n",
      "0.0010728545802439339\n"
     ]
    }
   ],
   "source": [
    "from sklearn.metrics import mean_squared_error\n",
    "y_train_pred=regressor.predict(X_train)\n",
    "y_test_pred=regressor.predict(X_test)\n",
    "print(mean_squared_error(y_train,y_train_pred))\n",
    "print(mean_squared_error(y_test,y_test_pred))"
   ]
  },
  {
   "cell_type": "code",
   "execution_count": null,
   "metadata": {},
   "outputs": [],
   "source": []
  }
 ],
 "metadata": {
  "kernelspec": {
   "display_name": "Python 3.7.1 ('torch3.7')",
   "language": "python",
   "name": "python3"
  },
  "language_info": {
   "codemirror_mode": {
    "name": "ipython",
    "version": 3
   },
   "file_extension": ".py",
   "mimetype": "text/x-python",
   "name": "python",
   "nbconvert_exporter": "python",
   "pygments_lexer": "ipython3",
   "version": "3.7.1"
  },
  "orig_nbformat": 4,
  "vscode": {
   "interpreter": {
    "hash": "c71149a1607dc26388dc4a1e2c7645a7bdb0cf0ed1486ff791baa5dd26c9b211"
   }
  }
 },
 "nbformat": 4,
 "nbformat_minor": 2
}
